{
  "nbformat": 4,
  "nbformat_minor": 0,
  "metadata": {
    "colab": {
      "provenance": [],
      "authorship_tag": "ABX9TyNXfIyKu5fYVzs6h+EyLs8I",
      "include_colab_link": true
    },
    "kernelspec": {
      "name": "python3",
      "display_name": "Python 3"
    },
    "language_info": {
      "name": "python"
    }
  },
  "cells": [
    {
      "cell_type": "markdown",
      "metadata": {
        "id": "view-in-github",
        "colab_type": "text"
      },
      "source": [
        "<a href=\"https://colab.research.google.com/github/rafael-hsm/udemy-asynchronous/blob/main/exemplo_multiprocesso.ipynb\" target=\"_parent\"><img src=\"https://colab.research.google.com/assets/colab-badge.svg\" alt=\"Open In Colab\"/></a>"
      ]
    },
    {
      "cell_type": "code",
      "execution_count": 2,
      "metadata": {
        "id": "QnyIpc-fm3XX"
      },
      "outputs": [],
      "source": [
        "import multiprocessing\n",
        "import os"
      ]
    },
    {
      "cell_type": "code",
      "source": [
        "def square(total, output_queue):\n",
        "  squares = [num * num for num in range(1, total)]\n",
        "  output_queue.put(squares)\n",
        "\n",
        "def cube(total, output_queue):\n",
        "  cubes = [num * num * num for num in range(1, total)]\n",
        "  output_queue.put(cubes)"
      ],
      "metadata": {
        "id": "xgG-DfkEnLll"
      },
      "execution_count": 9,
      "outputs": []
    },
    {
      "cell_type": "code",
      "source": [
        "output_queue = multiprocessing.Queue()\n",
        "\n",
        "p1 = multiprocessing.Process(target=square, args=(10, output_queue))\n",
        "p2 = multiprocessing.Process(target=cube, args=(10, output_queue))\n",
        "\n",
        "p1.start()\n",
        "p2.start()\n",
        "p1.join()\n",
        "p2.join()\n",
        "print(p1)\n",
        "print(p2)\n",
        "\n",
        "square_result = output_queue.get()\n",
        "cube_result = output_queue.get()\n",
        "\n",
        "print(\"Square Result:\", square_result)\n",
        "print(\"Cube Result:\", cube_result)\n"
      ],
      "metadata": {
        "colab": {
          "base_uri": "https://localhost:8080/"
        },
        "id": "VXc0o3J2np0e",
        "outputId": "a29079a2-4739-43bf-d650-f36cfb1a49f8"
      },
      "execution_count": 10,
      "outputs": [
        {
          "output_type": "stream",
          "name": "stdout",
          "text": [
            "<Process name='Process-9' pid=4239 parent=206 stopped exitcode=0>\n",
            "<Process name='Process-10' pid=4241 parent=206 stopped exitcode=0>\n",
            "Square Result: [1, 4, 9, 16, 25, 36, 49, 64, 81]\n",
            "Cube Result: [1, 8, 27, 64, 125, 216, 343, 512, 729]\n"
          ]
        }
      ]
    },
    {
      "cell_type": "code",
      "source": [],
      "metadata": {
        "id": "b9c2yRO-o3-p"
      },
      "execution_count": null,
      "outputs": []
    },
    {
      "cell_type": "markdown",
      "source": [],
      "metadata": {
        "id": "hhl52e8rnLEn"
      }
    }
  ]
}